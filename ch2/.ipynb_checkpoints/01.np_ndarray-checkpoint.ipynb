{
 "cells": [
  {
   "cell_type": "markdown",
   "metadata": {},
   "source": [
    "## 단축키\n",
    "* esc 누르고 h"
   ]
  },
  {
   "cell_type": "code",
   "execution_count": null,
   "metadata": {},
   "outputs": [],
   "source": [
    "## numpy 배열 생성\n",
    "* numpy.array을 사용하여 numpy 배열을 생성할 수 있음\n",
    "* numpy는 list와 유사함\n",
    "* list 형식으로 생성된 배열을 numpy 형식으로 변경할 수 있음"
   ]
  },
  {
   "cell_type": "code",
   "execution_count": 1,
   "metadata": {},
   "outputs": [
    {
     "name": "stdout",
     "output_type": "stream",
     "text": [
      "[1, 2, 3, 4, 5]\n",
      "[1 2 3 4 5]\n",
      "[1 3 5]\n",
      "<class 'list'> <class 'numpy.ndarray'> <class 'numpy.ndarray'>\n"
     ]
    }
   ],
   "source": [
    "import numpy as np\n",
    "\n",
    "a = [1, 2, 3, 4, 5]\n",
    "b =np.array(a)\n",
    "c = np.array([1,3,5])\n",
    "\n",
    "print(a)\n",
    "print(b)\n",
    "print(c)\n",
    "print(type(a), type(b), type(c))"
   ]
  },
  {
   "cell_type": "markdown",
   "metadata": {},
   "source": [
    "## numpy 배열 복제\n",
    "* numpy 배열은 list, tuple 등과 동일하게 복사하여 값을 변경할 경우, 원본의 값도 변경됨\n",
    "* numpy배열.copy()를 통하여 복제할 경우, 원본과 별개의 배열이 생성됨"
   ]
  },
  {
   "cell_type": "code",
   "execution_count": 3,
   "metadata": {},
   "outputs": [
    {
     "name": "stdout",
     "output_type": "stream",
     "text": [
      "[99  2  3  4  5]\n",
      "[99  2  3  4  5]\n",
      "[100   2   3   4   5]\n"
     ]
    }
   ],
   "source": [
    "\n",
    "\n",
    "a = np.array([1, 2, 3, 4, 5])\n",
    "b = a\n",
    "c = a.copy()\n",
    "\n",
    "b[0] = 99\n",
    "c[0] = 100\n",
    "\n",
    "print(a)\n",
    "print(b)\n",
    "print(c)"
   ]
  },
  {
   "cell_type": "markdown",
   "metadata": {},
   "source": [
    "## numpy 배열 요소(elements) 접근\n",
    "* list와 동일하게 배열 내의 요소를 대괄호([ ])를 이용하여 접근할 수 있음"
   ]
  },
  {
   "cell_type": "code",
   "execution_count": 4,
   "metadata": {},
   "outputs": [
    {
     "name": "stdout",
     "output_type": "stream",
     "text": [
      "3\n",
      "5\n",
      "[1 3]\n"
     ]
    }
   ],
   "source": [
    "import numpy as np\n",
    "\n",
    "a = [1, 2, 3, 4, 5]\n",
    "b = np.array(a)\n",
    "c = np.array([1, 3, 5])\n",
    "\n",
    "print(b[2])    # b 출력\n",
    "print(c[-1])   #  c 출력\n",
    "print(c[:2])  # c 출력"
   ]
  },
  {
   "cell_type": "markdown",
   "metadata": {},
   "source": [
    "## numpy 배열 계산\n",
    "* numpy는 list와 다르게 수학 기호를 사용한다면 각각의 원소로 계산하여 반환함\n",
    "* list의 경우 *기호 사용시 해당 배열을 이어붙이지만, numpy의 경우 연산을 실행함\n",
    "* numpy를 사용할 경우, list comprehension을 사용하지 않아도 원소의 값을 연산할 수 있음"
   ]
  },
  {
   "cell_type": "code",
   "execution_count": 10,
   "metadata": {},
   "outputs": [
    {
     "name": "stdout",
     "output_type": "stream",
     "text": [
      "[1, 2, 3, 4, 5, 1, 2, 3, 4, 5]\n",
      "[ 2  4  6  8 10]\n",
      "[ 2  4  6  8 10]\n",
      "[4 5 6 7 8]\n"
     ]
    }
   ],
   "source": [
    "import numpy as np\n",
    "\n",
    "a = [1, 2, 3, 4, 5]\n",
    "b = np.array(a)\n",
    "c = np.array([1, 3, 5])\n",
    "\n",
    "print(a*2)\n",
    "print(a+b)\n",
    "print(b*2)\n",
    "# print(a+3)\n",
    "print(b+3)"
   ]
  },
  {
   "cell_type": "code",
   "execution_count": 11,
   "metadata": {},
   "outputs": [
    {
     "name": "stdout",
     "output_type": "stream",
     "text": [
      "[1, 2, 3, 4, 5, 1, 2, 3, 4, 5]\n",
      "[ 2  4  6  8 10]\n",
      "[4 6 8]\n"
     ]
    }
   ],
   "source": [
    "import numpy as np\n",
    "\n",
    "a = [1, 2, 3, 4, 5]\n",
    "b = np.array(a)\n",
    "c = np.array([1, 3, 5])\n",
    "\n",
    "print(a*2)\n",
    "print(b*2)\n",
    "print(c+3)"
   ]
  },
  {
   "cell_type": "code",
   "execution_count": 12,
   "metadata": {},
   "outputs": [
    {
     "name": "stdout",
     "output_type": "stream",
     "text": [
      "[1, 2, 3, 4, 5, 3]\n"
     ]
    }
   ],
   "source": [
    "#print(a+3)  # error\n",
    "a.append(3)\n",
    "print(a)"
   ]
  },
  {
   "cell_type": "markdown",
   "metadata": {},
   "source": [
    "## 1차원 배열\n",
    "* numpy.array(배열, dtype=자료형)을 사용하여 배열 생성과 자료형을 설정할 수 있음\n",
    "* dtype이 생략될 경우, 데이터의 자료형을 유추하여 자동적으로 dtype을 할당함\n",
    "* bool형식의 특정한 배열을 생성시 dtype을 사용하여 명시적으로 표기함"
   ]
  },
  {
   "cell_type": "code",
   "execution_count": 13,
   "metadata": {},
   "outputs": [
    {
     "name": "stdout",
     "output_type": "stream",
     "text": [
      "[1 2 3]\n",
      "[1.1 2.2 3.3]\n",
      "[ True  True False]\n",
      "float64\n"
     ]
    }
   ],
   "source": [
    "import numpy as np\n",
    "\n",
    "a = np.array([1.1, 2.2, 3.3], dtype=int)\n",
    "b = np.array([1.1, 2.2, 3.3])  # dtype의 디폴트는 float\n",
    "c = np.array([1, 1, 0], dtype=bool)\n",
    "\n",
    "print(a)\n",
    "print(b)\n",
    "print(c)\n",
    "print(b.dtype)"
   ]
  },
  {
   "cell_type": "code",
   "execution_count": 14,
   "metadata": {},
   "outputs": [
    {
     "name": "stdout",
     "output_type": "stream",
     "text": [
      "[1. 2. 3.]\n"
     ]
    }
   ],
   "source": [
    "a = np.array([1, 2, 3], dtype=np.float32)\n",
    "print(a)\n",
    "# b = np.array([1.1, 2.2, 3.3], dtype=float32)   # error"
   ]
  },
  {
   "cell_type": "markdown",
   "metadata": {},
   "source": [
    "## 다차원 배열\n",
    "* numpy.array(다차원 배열, dtype=자료형)을 사용하여 다차원 배열 생성과 자료형을 설정할 수 있음\n",
    "* dtype이 생략될 경우, 데이터의 자료형을 유추하여 자동적으로 dtype을 할당함\n",
    "* 다차원 배열의 값을 불러올 때, 배열[페이지][행][열]... 형태로 배열의 값을 불러올 수 있음"
   ]
  },
  {
   "cell_type": "code",
   "execution_count": 15,
   "metadata": {
    "scrolled": true
   },
   "outputs": [
    {
     "name": "stdout",
     "output_type": "stream",
     "text": [
      "[[1 2 3]\n",
      " [4 5 6]\n",
      " [7 8 9]]\n",
      "[[[ 1  2]\n",
      "  [ 3  4]]\n",
      "\n",
      " [[ 5  6]\n",
      "  [ 7  8]]\n",
      "\n",
      " [[ 9 10]\n",
      "  [11 12]]]\n",
      "2\n",
      "4\n"
     ]
    }
   ],
   "source": [
    "import numpy as np\n",
    "\n",
    "a = np.array([[1, 2, 3], [4, 5, 6], [7, 8, 9]])\n",
    "b = np.array([[[1, 2], [3, 4]], [[5, 6], [7, 8]], [[9, 10], [11, 12]]])\n",
    "\n",
    "print(a)\n",
    "print(b)\n",
    "print(a[0][1])\n",
    "print(b[0][1][1])"
   ]
  },
  {
   "cell_type": "markdown",
   "metadata": {},
   "source": [
    "## 배열 속성(attribute) 확인\n",
    "* 배열.ndim 또는 np.ndim(배열)을 사용하여 배열의 차원을 확인함\n",
    "* 배열.shape 또는 np.shape(배열)을 사용하여 배열의 형태를 확인함\n",
    "* 배열.dtype을 사용하여 배열의 자료형을 확인함\n",
    "* attribute : 클래스 안에 변수 같은 것을 속성이라고 한다."
   ]
  },
  {
   "cell_type": "code",
   "execution_count": 17,
   "metadata": {},
   "outputs": [
    {
     "name": "stdout",
     "output_type": "stream",
     "text": [
      "2\n",
      "(3, 3)\n",
      "int32\n",
      "3\n",
      "(3, 2, 2)\n",
      "int32\n"
     ]
    }
   ],
   "source": [
    "import numpy as np \n",
    "\n",
    "a = np.array([[1, 2, 3], [4, 5, 6], [7, 8, 9]])\n",
    "b = np.array([[[1, 2], [3, 4]], [[5, 6], [7, 8]], [[9, 10], [11, 12]]])\n",
    "\n",
    "print(a.ndim)  # a dimension \n",
    "print(a.shape)  # a shape\n",
    "print(a.dtype)  # a type\n",
    "\n",
    "print(b.ndim)  # b dimension\n",
    "print(b.shape)  # b shape\n",
    "print(b.dtype)"
   ]
  },
  {
   "cell_type": "markdown",
   "metadata": {},
   "source": [
    "## 모든 값이 1인 배열\n",
    "* numpy.ones(배열, dtype=자료형)을 사용하여 모든 원소의 값이 1인 배열을 생성할 수 있음\n",
    "* numpy.ones_like(배열, dtype=자료형)을 사용하여 배열의 크기와 동일하며 모든 원소의 값이 1인 배열을 생성할 수 있음"
   ]
  },
  {
   "cell_type": "code",
   "execution_count": 18,
   "metadata": {},
   "outputs": [
    {
     "name": "stdout",
     "output_type": "stream",
     "text": [
      "[[1 1]\n",
      " [1 1]]\n",
      "[1, 2, 3, 4, 5]\n",
      "[1 1 1 1 1]\n"
     ]
    }
   ],
   "source": [
    "import numpy as np\n",
    "\n",
    "a = np.ones((2,2),dtype=np.int8)\n",
    "b = [1, 2, 3, 4, 5]\n",
    "c = np.ones_like(b, dtype=int)\n",
    "\n",
    "print(a)\n",
    "print(b)\n",
    "print(c)"
   ]
  },
  {
   "cell_type": "markdown",
   "metadata": {},
   "source": [
    "## 모든 값이 0인 배열\n",
    "* numpy.zeros(배열, dtype=자료형)을 사용하여 모든 원소의 값이 0인 배열을 생성할 수 있음\n",
    "* numpy.zeros_like(배열, dtype=자료형)을 사용하여 배열의 크기와 동일하며 모든 원소의 값이 0인 배열을 생성할 수 있음"
   ]
  },
  {
   "cell_type": "code",
   "execution_count": 21,
   "metadata": {},
   "outputs": [
    {
     "name": "stdout",
     "output_type": "stream",
     "text": [
      "[[0. 0.]\n",
      " [0. 0.]]\n",
      "[[0. 0.]\n",
      " [0. 0.]]\n",
      "[1, 2, 3, 4, 5]\n",
      "[0 0 0 0 0]\n"
     ]
    }
   ],
   "source": [
    "import numpy as np\n",
    "\n",
    "a = np.zeros((2,2))\n",
    "a_1 = np.zeros([2,2])\n",
    "b = [1, 2, 3, 4, 5]\n",
    "c = np.zeros_like(b)\n",
    "\n",
    "print(a)\n",
    "print(a_1)\n",
    "print(b)\n",
    "print(c)"
   ]
  },
  {
   "cell_type": "markdown",
   "metadata": {},
   "source": [
    "## 모든 값이 비어있는 배열\n",
    "* numpy.empty(배열, dtype=자료형)을 사용하여 특정한 값으로 초기화하지 않는 배열을 생성할 수 있음\n",
    "* numpy.empty_like(배열, dtype=자료형)을 사용하여 배열의 크기와 동일하며 특정한 값으로 초기화하지 않는 배열을 생성할 수 있음\n",
    "* 난수와 다른 임의의 값이 들어가며 값은 메모리에 저장된 내용에 따라 달라짐\n",
    "* empty를 이용하여 배열을 생성할 경우, 조금 더 빠른 속도로 생성이 가능함"
   ]
  },
  {
   "cell_type": "code",
   "execution_count": 37,
   "metadata": {},
   "outputs": [
    {
     "name": "stdout",
     "output_type": "stream",
     "text": [
      "[[0. 0.]\n",
      " [0. 0.]]\n",
      "[1, 2, 3, 4, 5]\n",
      "[1 2 3 4 5]\n"
     ]
    }
   ],
   "source": [
    "import numpy as np\n",
    "\n",
    "a = np.empty((2,2))\n",
    "b = [1, 2, 3, 4, 5]\n",
    "c = np.empty_like(b)\n",
    "\n",
    "print(a)\n",
    "print(b)\n",
    "print(c)"
   ]
  },
  {
   "cell_type": "markdown",
   "metadata": {},
   "source": [
    "## 대각의 값이 1인 배열(단위 행렬)\n",
    "* numpy.identity(N, dtype=자료형)을 사용하여 NxN 크기의 단위 행렬을 반환함\n",
    "* numpy.eye(N, M, k=K, dtype=자료형)을 사용하여 NxM 크기의 K값 만큼 이격된 단위 행렬을 반환함\n",
    "* K의 값이 양수일 경우, 우상 방향으로 이동하며, K의 값이 음수일 경우, 좌하 방향으로 이동함"
   ]
  },
  {
   "cell_type": "code",
   "execution_count": 39,
   "metadata": {
    "scrolled": false
   },
   "outputs": [
    {
     "name": "stdout",
     "output_type": "stream",
     "text": [
      "[[1. 0. 0. 0.]\n",
      " [0. 1. 0. 0.]\n",
      " [0. 0. 1. 0.]\n",
      " [0. 0. 0. 1.]]\n",
      "[[1. 0. 0. 0.]\n",
      " [0. 1. 0. 0.]\n",
      " [0. 0. 1. 0.]\n",
      " [0. 0. 0. 1.]]\n",
      "[[0. 1. 0. 0.]\n",
      " [0. 0. 1. 0.]\n",
      " [0. 0. 0. 1.]\n",
      " [0. 0. 0. 0.]]\n",
      "[[0. 0. 0. 0.]\n",
      " [1. 0. 0. 0.]\n",
      " [0. 1. 0. 0.]\n",
      " [0. 0. 1. 0.]]\n"
     ]
    }
   ],
   "source": [
    "import numpy as np\n",
    "\n",
    "a = np.identity(4)\n",
    "b = np.eye(4,4)\n",
    "b_1 = np.eye(4,4, k=1)\n",
    "c = np.eye(4,4, k=-1)\n",
    "\n",
    "print(a)\n",
    "print(b)\n",
    "print(b_1)\n",
    "print(c)"
   ]
  },
  {
   "cell_type": "code",
   "execution_count": 18,
   "metadata": {},
   "outputs": [
    {
     "name": "stdout",
     "output_type": "stream",
     "text": [
      "[[0 1 0 0 0]\n",
      " [0 0 1 0 0]\n",
      " [0 0 0 1 0]\n",
      " [0 0 0 0 1]]\n",
      "[[1 0 0 0]\n",
      " [0 1 0 0]\n",
      " [0 0 1 0]\n",
      " [0 0 0 1]]\n"
     ]
    }
   ],
   "source": [
    "d = .....\n",
    "print(d)\n",
    "e = .....\n",
    "print(e)"
   ]
  },
  {
   "cell_type": "markdown",
   "metadata": {},
   "source": [
    "## 등간격 숫자 배열 - arange\n",
    "* numpy.arange(start, end, step=간격, dtype=자료형)을 사용하여 start ~ end-1 사이의 값을 간격만큼 띄워 배열로 반환함\n",
    "* start값은 항상 포함되며, end값은 포함되지 않을 수도 있음\n",
    "* 간격이 end값을 초과할 경우, start값만 포함함"
   ]
  },
  {
   "cell_type": "code",
   "execution_count": 40,
   "metadata": {},
   "outputs": [
    {
     "name": "stdout",
     "output_type": "stream",
     "text": [
      "[0 2 4 6 8]\n",
      "[1]\n",
      "[0 1 2 3 4 5 6 7 8 9]\n"
     ]
    }
   ],
   "source": [
    "import numpy as np\n",
    "\n",
    "a = np.arange(0,10,2)\n",
    "b = np.arange(1,10,step=10)\n",
    "c = np.arange(0,10)\n",
    "\n",
    "print(a)\n",
    "print(b)\n",
    "print(c)"
   ]
  },
  {
   "cell_type": "markdown",
   "metadata": {},
   "source": [
    "## [로그 스케일 등간격 숫자 배열](https://docs.scipy.org/doc/numpy/reference/generated/numpy.logspace.html)\n",
    "* numpy.logspace(start, end, num=50, endpoint=True, base=10.0, dtype=자료형, axis=0)을 사용하여 base**start ~ base**end 사이의 값을 num 개수만큼 생성하여 배열로 반환함\n",
    "* endpoint가 True일 경우 end의 값이 마지막 값이 되며, False일 경우 end의 값을 마지막 값으로 사용하지 않음"
   ]
  },
  {
   "cell_type": "code",
   "execution_count": 42,
   "metadata": {},
   "outputs": [
    {
     "name": "stdout",
     "output_type": "stream",
     "text": [
      "[ 100.          215.443469    464.15888336 1000.        ]\n",
      "[ 1000.          2154.43469003  4641.58883361 10000.        ]\n",
      "[   4.   16.   64.  256. 1024.]\n",
      "[  1.   4.  16.  64. 256.]\n"
     ]
    }
   ],
   "source": [
    "import numpy as np\n",
    "\n",
    "a = np.logspace(2,3,4)      # log10_10**2 ~ log10_10**3 사이의 균등 값\n",
    "b = np.logspace(3,4,4)\n",
    "c = np.logspace(2,10,5, base=2)\n",
    "d = np.logspace(0,10,5, endpoint= False, base=2)\n",
    "\n",
    "print(a)\n",
    "print(b)\n",
    "print(c)\n",
    "print(d)"
   ]
  },
  {
   "cell_type": "code",
   "execution_count": 49,
   "metadata": {},
   "outputs": [
    {
     "data": {
      "image/png": "[encoded data removed]",
      "text/plain": [
       "<Figure size 432x288 with 1 Axes>"
      ]
     },
     "metadata": {
      "needs_background": "light"
     },
     "output_type": "display_data"
    }
   ],
   "source": [
    "import matplotlib.pyplot as plt\n",
    "%matplotlib inline\n",
    "\n",
    "N = 10\n",
    "x1 = np.logspace(2.0, 3.0, N, endpoint=True)\n",
    "x2 = np.logspace(2.0, 3.0, N, endpoint=False)\n",
    "y = np.zeros(N)\n",
    "plt.plot(x1,y, 'o')\n",
    "plt.plot(x2,y+0.5, \"^\")\n",
    "plt.ylim([-0.5,1])\n",
    "plt.show()"
   ]
  },
  {
   "cell_type": "markdown",
   "metadata": {},
   "source": [
    "## 등간격 숫자 배열 - linspace\n",
    "* 로그 공간과 유사하지만 샘플이 로그 공간 대신 선형 공간에 균일하게 분포되어 있음"
   ]
  },
  {
   "cell_type": "code",
   "execution_count": 50,
   "metadata": {
    "scrolled": true
   },
   "outputs": [
    {
     "name": "stdout",
     "output_type": "stream",
     "text": [
      "[ 1.    3.25  5.5   7.75 10.  ]\n",
      "[1.  2.8 4.6 6.4 8.2]\n",
      "[ 1.  2.  3.  4.  5.  6.  7.  8.  9. 10.]\n",
      "[1.  1.9 2.8 3.7 4.6 5.5 6.4 7.3 8.2 9.1]\n"
     ]
    }
   ],
   "source": [
    "import numpy as np\n",
    "\n",
    "a = np.linspace(1,10,5)\n",
    "b = np.linspace(1,10,5, endpoint=False)\n",
    "c = np.linspace(1,10,10)\n",
    "d = np.linspace(1,10,10, endpoint=False)\n",
    "\n",
    "print(a)\n",
    "print(b)\n",
    "print(c)\n",
    "print(d)"
   ]
  },
  {
   "cell_type": "code",
   "execution_count": null,
   "metadata": {},
   "outputs": [],
   "source": []
  }
 ],
 "metadata": {
  "kernelspec": {
   "display_name": "Python 3",
   "language": "python",
   "name": "python3"
  },
  "language_info": {
   "codemirror_mode": {
    "name": "ipython",
    "version": 3
   },
   "file_extension": ".py",
   "mimetype": "text/x-python",
   "name": "python",
   "nbconvert_exporter": "python",
   "pygments_lexer": "ipython3",
   "version": "3.6.9"
  }
 },
 "nbformat": 4,
 "nbformat_minor": 2
}
